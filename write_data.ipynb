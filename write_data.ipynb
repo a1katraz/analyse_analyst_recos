{
 "cells": [
  {
   "cell_type": "code",
   "execution_count": 1,
   "id": "e837e57a-f424-41f3-9526-66b0fe005ae1",
   "metadata": {},
   "outputs": [],
   "source": [
    "import gspread\n",
    "from oauth2client.service_account import ServiceAccountCredentials\n",
    "import pprint\n",
    "from uuid import UUID"
   ]
  },
  {
   "cell_type": "code",
   "execution_count": 2,
   "id": "a273fa2e-b5c0-4f79-a50c-5831e0bc1c7d",
   "metadata": {},
   "outputs": [],
   "source": [
    "def activate():\n",
    "    scope = [\n",
    "        'https://www.googleapis.com/auth/drive',\n",
    "        'https://www.googleapis.com/auth/drive.file'\n",
    "        ]\n",
    "    key_file_name = 'main-webserver-clientkey.json'\n",
    "    creds = ServiceAccountCredentials.from_json_keyfile_name(f'../keys/{key_file_name}',scope)\n",
    "    return gspread.authorize(creds)"
   ]
  },
  {
   "cell_type": "code",
   "execution_count": 3,
   "id": "f84c9e51-9e3d-47dc-8add-e17ec9472102",
   "metadata": {},
   "outputs": [],
   "source": [
    "def write_headlines(validated_titles):\n",
    "    # Writes a set of validated headlines to a Google sheet\n",
    "    \n",
    "    gs_client = activate()\n",
    "    file = gs_client.open_by_key('1X1nGWEdD2ExW1Z9i1cX5gCpZjYmAFc14GzmoKmnJYU0')  # All writes are to this specific file\n",
    "    worksheet = file.worksheet('Links')  # Headline are written to this sheet\n",
    "\n",
    "    for idx, row in validated_titles.iterrows():\n",
    "        if(isinstance(row['uuid'], UUID)):\n",
    "            row['uuid'] = str(row['uuid'])\n",
    "        worksheet.append_row(row.tolist())\n",
    "\n",
    "    return 0"
   ]
  },
  {
   "cell_type": "code",
   "execution_count": 4,
   "id": "a0bf16ca-7634-4475-b9ce-9a3cf93c549b",
   "metadata": {},
   "outputs": [
    {
     "ename": "AttributeError",
     "evalue": "'list' object has no attribute 'iterrows'",
     "output_type": "error",
     "traceback": [
      "\u001b[31m---------------------------------------------------------------------------\u001b[39m",
      "\u001b[31mAttributeError\u001b[39m                            Traceback (most recent call last)",
      "\u001b[36mCell\u001b[39m\u001b[36m \u001b[39m\u001b[32mIn[4]\u001b[39m\u001b[32m, line 3\u001b[39m\n\u001b[32m      1\u001b[39m \u001b[38;5;66;03m#one line tester\u001b[39;00m\n\u001b[32m----> \u001b[39m\u001b[32m3\u001b[39m \u001b[43mwrite_headlines\u001b[49m\u001b[43m(\u001b[49m\u001b[43m[\u001b[49m\u001b[43m]\u001b[49m\u001b[43m)\u001b[49m;\n",
      "\u001b[36mCell\u001b[39m\u001b[36m \u001b[39m\u001b[32mIn[3]\u001b[39m\u001b[32m, line 8\u001b[39m, in \u001b[36mwrite_headlines\u001b[39m\u001b[34m(validated_titles)\u001b[39m\n\u001b[32m      5\u001b[39m file = gs_client.open_by_key(\u001b[33m'\u001b[39m\u001b[33m1X1nGWEdD2ExW1Z9i1cX5gCpZjYmAFc14GzmoKmnJYU0\u001b[39m\u001b[33m'\u001b[39m)  \u001b[38;5;66;03m# All writes are to this specific file\u001b[39;00m\n\u001b[32m      6\u001b[39m worksheet = file.worksheet(\u001b[33m'\u001b[39m\u001b[33mLinks\u001b[39m\u001b[33m'\u001b[39m)  \u001b[38;5;66;03m# Headline are written to this sheet\u001b[39;00m\n\u001b[32m----> \u001b[39m\u001b[32m8\u001b[39m \u001b[38;5;28;01mfor\u001b[39;00m idx, row \u001b[38;5;129;01min\u001b[39;00m \u001b[43mvalidated_titles\u001b[49m\u001b[43m.\u001b[49m\u001b[43miterrows\u001b[49m():\n\u001b[32m      9\u001b[39m     worksheet.append(row.tolist())\n\u001b[32m     11\u001b[39m \u001b[38;5;28;01mreturn\u001b[39;00m \u001b[32m0\u001b[39m\n",
      "\u001b[31mAttributeError\u001b[39m: 'list' object has no attribute 'iterrows'"
     ]
    }
   ],
   "source": [
    "#one line tester\n",
    "\n",
    "#write_headlines([]);"
   ]
  }
 ],
 "metadata": {
  "kernelspec": {
   "display_name": "Python 3 (ipykernel)",
   "language": "python",
   "name": "python3"
  },
  "language_info": {
   "codemirror_mode": {
    "name": "ipython",
    "version": 3
   },
   "file_extension": ".py",
   "mimetype": "text/x-python",
   "name": "python",
   "nbconvert_exporter": "python",
   "pygments_lexer": "ipython3",
   "version": "3.12.3"
  }
 },
 "nbformat": 4,
 "nbformat_minor": 5
}
