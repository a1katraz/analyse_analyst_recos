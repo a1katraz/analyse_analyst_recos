{
 "cells": [
  {
   "cell_type": "code",
   "execution_count": 1,
   "id": "6865b643-1387-446c-8adc-5cd4ed82ff68",
   "metadata": {},
   "outputs": [],
   "source": [
    "import requests\n",
    "import pandas\n",
    "import base64\n",
    "import os\n",
    "import bs4\n",
    "from google import genai\n",
    "from google.genai import types\n",
    "from bs4 import BeautifulSoup \n",
    "from datetime import datetime\n",
    "from pydantic import BaseModel\n",
    "import json\n",
    "from openpyxl import load_workbook\n",
    "import uuid\n",
    "import random"
   ]
  },
  {
   "cell_type": "code",
   "execution_count": 2,
   "id": "101c9005-485c-4d37-8e97-cc474fb622b9",
   "metadata": {},
   "outputs": [
    {
     "name": "stdout",
     "output_type": "stream",
     "text": [
      "2.2.3\n"
     ]
    }
   ],
   "source": [
    "print(pandas.__version__)"
   ]
  },
  {
   "cell_type": "code",
   "execution_count": 3,
   "id": "3624b360-ca83-43a9-9604-ad55501cde67",
   "metadata": {},
   "outputs": [
    {
     "name": "stdout",
     "output_type": "stream",
     "text": [
      "test and run!\n"
     ]
    }
   ],
   "source": [
    "print('test and run!')"
   ]
  },
  {
   "cell_type": "code",
   "execution_count": 5,
   "id": "a366b561-511c-4c12-b876-c4b78181775c",
   "metadata": {},
   "outputs": [
    {
     "name": "stdout",
     "output_type": "stream",
     "text": [
      "haha mf, i still work\n"
     ]
    }
   ],
   "source": [
    "print('haha mf, i still work')"
   ]
  },
  {
   "cell_type": "code",
   "execution_count": 6,
   "id": "39d52bcc-8207-491d-a6f5-77c7c4c587ba",
   "metadata": {},
   "outputs": [
    {
     "name": "stdout",
     "output_type": "stream",
     "text": [
      "haha, no, you broke\n"
     ]
    }
   ],
   "source": [
    "print('haha, no, you broke')"
   ]
  },
  {
   "cell_type": "code",
   "execution_count": null,
   "id": "9b6509b0-fb53-4c58-a6f1-879ab934adf2",
   "metadata": {},
   "outputs": [],
   "source": []
  }
 ],
 "metadata": {
  "kernelspec": {
   "display_name": "Python 3 (ipykernel)",
   "language": "python",
   "name": "python3"
  },
  "language_info": {
   "codemirror_mode": {
    "name": "ipython",
    "version": 3
   },
   "file_extension": ".py",
   "mimetype": "text/x-python",
   "name": "python",
   "nbconvert_exporter": "python",
   "pygments_lexer": "ipython3",
   "version": "3.12.3"
  }
 },
 "nbformat": 4,
 "nbformat_minor": 5
}
