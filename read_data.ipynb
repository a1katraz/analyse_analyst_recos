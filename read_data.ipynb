{
 "cells": [
  {
   "cell_type": "code",
   "execution_count": 1,
   "id": "6ceea0e1-ca37-456d-bdb2-106f0055fcec",
   "metadata": {},
   "outputs": [],
   "source": [
    "import gspread\n",
    "from oauth2client.service_account import ServiceAccountCredentials\n",
    "import pprint\n",
    "from uuid import UUID\n",
    "import gspread_dataframe as gsdf"
   ]
  },
  {
   "cell_type": "code",
   "execution_count": 2,
   "id": "39c8022e-ce04-4c30-8e18-c7d776a345f7",
   "metadata": {},
   "outputs": [],
   "source": [
    "def activate():\n",
    "    scope = [\n",
    "        'https://www.googleapis.com/auth/drive',\n",
    "        'https://www.googleapis.com/auth/drive.file'\n",
    "        ]\n",
    "    key_file_name = 'main-webserver-clientkey.json'\n",
    "    creds = ServiceAccountCredentials.from_json_keyfile_name(f'../keys/{key_file_name}',scope)\n",
    "    return gspread.authorize(creds)"
   ]
  },
  {
   "cell_type": "code",
   "execution_count": 3,
   "id": "63014456-0f2b-4341-bee4-f7c1848b1a84",
   "metadata": {},
   "outputs": [],
   "source": [
    "def read_latest_recos():\n",
    "    # Writes a set of article Recommendations to the google sheet\n",
    "    \n",
    "    gs_client = activate()\n",
    "    file = gs_client.open_by_key('1X1nGWEdD2ExW1Z9i1cX5gCpZjYmAFc14GzmoKmnJYU0')  # All writes are to this specific file\n",
    "    worksheet = file.worksheet('Recos')  # Recos are written to this sheet\n",
    "\n",
    "    recos = gsdf.get_as_dataframe(worksheet=worksheet, header=0, nrows=None)\n",
    "    last_date = recos['art_date'].max()\n",
    "    recos = recos[recos['art_date'] == last_date]\n",
    "    recos.drop(['uuid', 'user_review'], axis=1, inplace=True)\n",
    "    \n",
    "    worksheet.client.session.close()\n",
    "    return recos"
   ]
  },
  {
   "cell_type": "code",
   "execution_count": null,
   "id": "c6a305a1-2216-451f-928c-9838611103b6",
   "metadata": {},
   "outputs": [],
   "source": []
  }
 ],
 "metadata": {
  "kernelspec": {
   "display_name": "Python 3 (ipykernel)",
   "language": "python",
   "name": "python3"
  },
  "language_info": {
   "codemirror_mode": {
    "name": "ipython",
    "version": 3
   },
   "file_extension": ".py",
   "mimetype": "text/x-python",
   "name": "python",
   "nbconvert_exporter": "python",
   "pygments_lexer": "ipython3",
   "version": "3.12.3"
  }
 },
 "nbformat": 4,
 "nbformat_minor": 5
}
