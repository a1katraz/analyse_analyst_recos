{
 "cells": [
  {
   "cell_type": "code",
   "execution_count": 1,
   "id": "675862a2-628b-4957-845f-9c79d26aa00b",
   "metadata": {},
   "outputs": [
    {
     "data": {
      "text/plain": [
       "True"
      ]
     },
     "execution_count": 1,
     "metadata": {},
     "output_type": "execute_result"
    }
   ],
   "source": [
    "from google import genai\n",
    "import os\n",
    "import dotenv as env\n",
    "env.load_dotenv('../keys.env')"
   ]
  },
  {
   "cell_type": "code",
   "execution_count": 3,
   "id": "b623449f-101d-441a-8c00-5df4c86376d4",
   "metadata": {},
   "outputs": [
    {
     "name": "stdout",
     "output_type": "stream",
     "text": [
      "Here is the table of the buildings identified in the master plan, along with their open sides:\n",
      "\n",
      "Based on the image and identified building names:\n",
      "- Buildings identified: A, B, C, D, E, F, G, H, I, J, K, L, M, N, O, P, Q\n",
      "- Count of the buildings: 17\n",
      "\n",
      "Here's the table with the building names and their open sides:\n",
      "\n",
      "| Building Name | Number of Open Sides |\n",
      "| ------------- | --------------------- |\n",
      "| A             | 4                      |\n",
      "| B             | 4                      |\n",
      "| C             | 4                      |\n",
      "| D             | 4                      |\n",
      "| E             | 4                      |\n",
      "| F             | 4                      |\n",
      "| G             | 4                      |\n",
      "| H             | 4                      |\n",
      "| I             | 4                      |\n",
      "| J             | 4                      |\n",
      "| K             | 4                      |\n",
      "| L             | 4                      |\n",
      "| M             | 4                      |\n",
      "| N             | 4                      |\n",
      "| O             | 4                      |\n",
      "| P             | 4                      |\n",
      "| Q             | 4                      |\n",
      "\n"
     ]
    }
   ],
   "source": [
    "client = genai.Client(api_key=os.environ.get('GOOGLE_API_KEY'))\n",
    "\n",
    "myfile = client.files.upload(file='../images/sample1.png')\n",
    "\n",
    "response = client.models.generate_content(\n",
    "    model = 'gemini-2.0-flash'\n",
    "    , contents = [\n",
    "        '''This image file contains a layout or master plan of a residential complex.\n",
    "        The master plan is a top level view of the site. \n",
    "        Identify the buildings in the top-level view. \n",
    "        They might have a building name attached in the plan or in the legend.\n",
    "        For each building, consider the space around it on each of its four sides.\n",
    "        If the space on any given side is not blocked by another building, consider it an open side.   \n",
    "\n",
    "        Tell me the count of the buildings and the names of the buildings.\n",
    "        Also count the number of open sides for each of the buildings.\n",
    "        Present your output as a table of building name, and its open sides. \n",
    "        '''\n",
    "        , myfile]\n",
    ")\n",
    "\n",
    "print(response.text)"
   ]
  },
  {
   "cell_type": "code",
   "execution_count": 5,
   "id": "b2e109c6-0764-44af-91ab-cafd40bbd6a9",
   "metadata": {},
   "outputs": [
    {
     "name": "stdout",
     "output_type": "stream",
     "text": [
      "The layout image provided depicts a residential complex with several buildings, each labeled with a letter. Here's the summary:\n",
      "\n",
      "| Building Name | Number of Open Sides |\n",
      "|----------------|---------------------|\n",
      "| A              | 3                   |\n",
      "| B              | 3                   |\n",
      "| C              | 4                   |\n",
      "| D              | 3                   |\n",
      "| E              | 3                   |\n",
      "| F              | 4                   |\n",
      "| G              | 4                   |\n",
      "| H              | 4                   |\n",
      "| I              | 4                   |\n",
      "| J              | 4                   |\n",
      "| K              | 4                   |\n",
      "| L              | 4                   |\n",
      "| M              | 4                   |\n",
      "| N              | 2                   |\n",
      "| O              | 3                   |\n",
      "| P              | 3                   |\n",
      "| Q              | 3                   |\n",
      "\n",
      "Total number of buildings: 17\n",
      "\n",
      "Please note, the above counts for open sides are based on visual inspection of the plan, considering whether sides are blocked by other buildings or open space around each building.\n"
     ]
    }
   ],
   "source": [
    "import base64\n",
    "from openai import OpenAI\n",
    "\n",
    "client = OpenAI()\n",
    "\n",
    "# Function to encode the image\n",
    "def encode_image(image_path):\n",
    "    with open(image_path, \"rb\") as image_file:\n",
    "        return base64.b64encode(image_file.read()).decode(\"utf-8\")\n",
    "\n",
    "\n",
    "# Path to your image\n",
    "image_path = \"../images/sample1.png\"\n",
    "\n",
    "# Getting the Base64 string\n",
    "base64_image = encode_image(image_path)\n",
    "\n",
    "\n",
    "response = client.responses.create(\n",
    "    model=\"gpt-4.1-nano\",\n",
    "    input=[\n",
    "        {\n",
    "            \"role\": \"user\",\n",
    "            \"content\": [\n",
    "                { \"type\": \"input_text\", \"text\": \"\"\"This image file contains a layout or master plan of a residential complex.\n",
    "        The master plan is a top level view of the site. \n",
    "        Identify the buildings in the top-level view. \n",
    "        They might have a building name attached in the plan or in the legend.\n",
    "        For each building, consider the space around it on each of its four sides.\n",
    "        If the space on any given side is not blocked by another building, consider it an open side.   \n",
    "\n",
    "        Tell me the count of the buildings and the names of the buildings.\n",
    "        Also count the number of open sides for each of the buildings.\n",
    "        Present your output as a table of building name, and its open sides.\"\"\" },\n",
    "                {\n",
    "                    \"type\": \"input_image\",\n",
    "                    \"image_url\": f\"data:image/jpeg;base64,{base64_image}\",\n",
    "                },\n",
    "            ],\n",
    "        }\n",
    "    ],\n",
    ")\n",
    "\n",
    "print(response.output_text)"
   ]
  },
  {
   "cell_type": "code",
   "execution_count": null,
   "id": "cb792048-e2f3-4290-91a1-7c2065d19e28",
   "metadata": {},
   "outputs": [],
   "source": []
  }
 ],
 "metadata": {
  "kernelspec": {
   "display_name": "Python 3 (ipykernel)",
   "language": "python",
   "name": "python3"
  },
  "language_info": {
   "codemirror_mode": {
    "name": "ipython",
    "version": 3
   },
   "file_extension": ".py",
   "mimetype": "text/x-python",
   "name": "python",
   "nbconvert_exporter": "python",
   "pygments_lexer": "ipython3",
   "version": "3.12.3"
  }
 },
 "nbformat": 4,
 "nbformat_minor": 5
}
