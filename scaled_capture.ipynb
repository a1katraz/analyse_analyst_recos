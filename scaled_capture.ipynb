{
 "cells": [
  {
   "cell_type": "code",
   "execution_count": 1,
   "id": "ddf25592-ca00-4759-ad67-63bdfeee3a45",
   "metadata": {},
   "outputs": [],
   "source": [
    "import ipynb.fs.full.google_search as gs\n",
    "import ipynb.fs.full.gather_hl_and_articles as reader\n",
    "import ipynb.fs.full.open_ai_models as openaimodel\n",
    "import ipynb.fs.full.data_operations as do\n",
    "import pandas as pd\n",
    "import pprint as pp"
   ]
  },
  {
   "cell_type": "code",
   "execution_count": 2,
   "id": "406a589e-0398-41d3-a518-4de64af99199",
   "metadata": {},
   "outputs": [],
   "source": [
    "def main():\n",
    "\n",
    "    analysts = ['Sumeet Bagadia',\n",
    "            'Vaishali Parekh', \n",
    "            'Ganesh Dongre',\n",
    "            'Dharmesh Shah',\n",
    "            'Seema Srivastava',\n",
    "            'Anshul Jain',\n",
    "            'Shiju Koothupalakkal', \n",
    "            'Sugandha Sachdeva',\n",
    "            'Mahesh M Ojha'\n",
    "                ]\n",
    "    \n",
    "    ops = do.gspread_Operator()\n",
    "    srch = gs.google_Search()\n",
    "\n",
    "    #for loop should begin here:\n",
    "    print(f'Starting mass link search for {analysts[0]}...')\n",
    "    link_ids_already_seen = ops.read_specific_article_columns(['link_id'])\n",
    "    #print(link_ids_already_seen.shape)\n",
    "    google_links = srch.search(query=analysts[0], terms='Buy', num_pages=10, silent_mode=True)\n",
    "    #print(google_links.shape)\n",
    "    ##remove links we have previously seen\n",
    "    seen_indices = google_links[google_links['link_id'].isin(link_ids_already_seen['link_id'])].index.tolist()\n",
    "    if(seen_indices):\n",
    "        google_links.drop(index=seen_indices, inplace=True)\n",
    "    #print(google_links.shape)\n",
    "    \n",
    "    \n",
    "    return 0"
   ]
  },
  {
   "cell_type": "code",
   "execution_count": 3,
   "id": "8b47a91f-b21b-4afc-b5bd-90de23cb3b3a",
   "metadata": {},
   "outputs": [
    {
     "name": "stdout",
     "output_type": "stream",
     "text": [
      "Starting mass link search for Sumeet Bagadia...\n",
      "(61, 1)\n",
      "(97, 4)\n",
      "(97, 4)\n"
     ]
    }
   ],
   "source": [
    "if __name__ == '__main__':\n",
    "    hl = main()"
   ]
  },
  {
   "cell_type": "code",
   "execution_count": null,
   "id": "baedfe81-1242-4e75-8072-1e5fb77951ba",
   "metadata": {},
   "outputs": [],
   "source": []
  }
 ],
 "metadata": {
  "kernelspec": {
   "display_name": "Python 3 (ipykernel)",
   "language": "python",
   "name": "python3"
  },
  "language_info": {
   "codemirror_mode": {
    "name": "ipython",
    "version": 3
   },
   "file_extension": ".py",
   "mimetype": "text/x-python",
   "name": "python",
   "nbconvert_exporter": "python",
   "pygments_lexer": "ipython3",
   "version": "3.12.3"
  }
 },
 "nbformat": 4,
 "nbformat_minor": 5
}
