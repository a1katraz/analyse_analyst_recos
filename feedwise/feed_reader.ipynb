{
 "cells": [
  {
   "cell_type": "code",
   "execution_count": 1,
   "id": "e0bd4571-fd21-4045-bd7d-e75ffabb5481",
   "metadata": {},
   "outputs": [],
   "source": [
    "import ipynb.fs.full.dict_maker as dictionary\n",
    "import requests\n",
    "import feedparser\n",
    "import pandas \n",
    "from datetime import datetime"
   ]
  },
  {
   "cell_type": "code",
   "execution_count": 2,
   "id": "39449079-7499-4e78-b015-f82966cbc5fc",
   "metadata": {},
   "outputs": [],
   "source": [
    "class livemint_reader:\n",
    "    \n",
    "    @staticmethod\n",
    "    def read_feed(url:str) -> pandas.DataFrame:\n",
    "        try:\n",
    "            print(f'Reading feed from {url}...')\n",
    "            feed = feedparser.parse(url)\n",
    "            titles = []\n",
    "            links = []\n",
    "            link_ids = []\n",
    "            article_dates = []\n",
    "            article_summaries = []\n",
    "            \n",
    "            for entry in feed.entries:\n",
    "                titles.append(entry.title)\n",
    "                links.append(entry.link)\n",
    "                link_ids.append(entry.link[-19:][:14])\n",
    "                article_dates.append(datetime.strptime(entry.published[5:], '%d %b %Y %H:%M:%S %z'))\n",
    "                article_summaries.append(entry.summary)\n",
    "\n",
    "            df = pandas.DataFrame(\n",
    "                    data={\n",
    "                        'title': titles,\n",
    "                        'link': links,\n",
    "                        'link_id': link_ids,\n",
    "                        'link_date': article_dates,\n",
    "                        'link_summary': article_summaries\n",
    "                    }\n",
    "                )\n",
    "            df.insert(0, 'site_name', 'Livemint')\n",
    "            return df\n",
    "        \n",
    "        except feedparser.ExpatError as e:\n",
    "            print(f\"XML parsing error: {e}\")\n",
    "        except feedparser.NotFeedException as e:\n",
    "            print(f\"Not a valid feed: {e}\")\n",
    "        except feedparser.CharacterEncodingUnknown as e:\n",
    "            print(f\"Unknown character encoding error: {e}\")\n",
    "        except feedparser.ParseError as e:\n",
    "            print(f\"Parse error: {e}\")\n",
    "        except Exception as e:\n",
    "            print(f\"An unexpected error occurred: {e}\")"
   ]
  },
  {
   "cell_type": "code",
   "execution_count": 3,
   "id": "6225904f-56ec-4640-ad6d-aa351c71baf3",
   "metadata": {},
   "outputs": [],
   "source": [
    "# One line tester\n",
    "#url = dictionary.dict_to_json.get_value_from_file('Markets')\n",
    "#df = livemint_reader.read_feed(url)\n",
    "#print(df)"
   ]
  },
  {
   "cell_type": "code",
   "execution_count": 4,
   "id": "f0d152e2-cb79-4f3b-aa0d-f4309d02cda3",
   "metadata": {},
   "outputs": [],
   "source": [
    "#obj = datetime.strptime('19 May 2025 11:53:01 +0530', '%d %B %Y %H:%M:%S %z')\n",
    "#print(obj)"
   ]
  },
  {
   "cell_type": "code",
   "execution_count": null,
   "id": "5ffc752e-6b00-42af-992e-07cc2461a965",
   "metadata": {},
   "outputs": [],
   "source": []
  }
 ],
 "metadata": {
  "kernelspec": {
   "display_name": "Python 3 (ipykernel)",
   "language": "python",
   "name": "python3"
  },
  "language_info": {
   "codemirror_mode": {
    "name": "ipython",
    "version": 3
   },
   "file_extension": ".py",
   "mimetype": "text/x-python",
   "name": "python",
   "nbconvert_exporter": "python",
   "pygments_lexer": "ipython3",
   "version": "3.12.3"
  }
 },
 "nbformat": 4,
 "nbformat_minor": 5
}
