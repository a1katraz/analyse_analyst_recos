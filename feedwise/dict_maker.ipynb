{
 "cells": [
  {
   "cell_type": "code",
   "execution_count": 1,
   "id": "af777405-3006-4567-b2ee-571c471e25dc",
   "metadata": {},
   "outputs": [],
   "source": [
    "import json\n",
    "#import os"
   ]
  },
  {
   "cell_type": "code",
   "execution_count": 2,
   "id": "605af8ee-dd70-4beb-963a-8c123ad66451",
   "metadata": {},
   "outputs": [],
   "source": [
    "class dict_to_json:\n",
    "    __file_loc = '../../keys/feed_links.json'\n",
    "\n",
    "    @classmethod\n",
    "    def save_a_new_key(cls, site_key: str, key: str, value: str, overwrite:bool=False)-> None:\n",
    "        #print(os.getcwd())\n",
    "        with open(cls.__file_loc, 'r') as json_file:\n",
    "            my_dict = json.load(json_file)\n",
    "        #only targeted at creating and managing a 2 level nested dictionary. \n",
    "        if site_key in my_dict:\n",
    "            if key in my_dict[site_key] and not overwrite:\n",
    "                print(f'{key} is already in the json and not overwriting. Skipping...')\n",
    "            elif key in my_dict[site_key] and overwrite:\n",
    "                my_dict[site_key][key] = value\n",
    "                with open(cls.__file_loc, 'w') as json_file:\n",
    "                    json.dump(my_dict, json_file, indent=4)\n",
    "                print(f'Overwrote new value for key: {key}')\n",
    "            else:\n",
    "                my_dict[site_key][key] = value\n",
    "                with open(cls.__file_loc, 'w') as json_file:\n",
    "                    json.dump(my_dict, json_file, indent=4)\n",
    "                print(f'Wrote new value for key: {key}')\n",
    "            return\n",
    "        else: #site key doesn't exist, so we can insert a completely new one\n",
    "            my_dict[site_key][key] = value\n",
    "            with open(cls.__file_loc, 'w') as json_file:\n",
    "                json.dump(my_dict, json_file, indent=4)\n",
    "            print(f'Wrote new value for key: {key}')\n",
    "            return\n",
    "            \n",
    "\n",
    "    @classmethod\n",
    "    def search_key(cls, site_key: str, key: str) -> bool:\n",
    "        with open(cls.__file_loc, 'r') as json_file:\n",
    "            my_dict = json.load(json_file)\n",
    "        if site_key in my_dict:\n",
    "            if key in my_dict[site_key]:\n",
    "                return True\n",
    "            else:\n",
    "                return False\n",
    "        else:\n",
    "            return False\n",
    "\n",
    "    @classmethod\n",
    "    def show_all_keys(cls, site_key: str) -> list[str]:\n",
    "        with open(cls.__file_loc, 'r') as json_file:\n",
    "            my_dict = json.load(json_file)\n",
    "        return my_dict[site_key].keys()\n",
    "        \n",
    "    @classmethod\n",
    "    def get_value_from_file(cls, site_key:str, key: str) -> str:\n",
    "        with open(cls.__file_loc, 'r') as json_file:\n",
    "            my_dict = json.load(json_file)\n",
    "        return my_dict[site_key][key]"
   ]
  },
  {
   "cell_type": "code",
   "execution_count": 3,
   "id": "9c4b2b21-3e5d-4375-b0d0-84b12f381c7f",
   "metadata": {},
   "outputs": [],
   "source": [
    "# One line tester\n",
    "#dict_user = dict_to_json()\n",
    "#value = dict_to_json.get_value_from_file('AI')\n",
    "#print(value)\n",
    "#keys = ['Companies', 'Opinion', 'Money', 'Politics', 'Science', 'Industry', 'Education', 'Sports', 'Technology', 'News', 'Markets', 'AI', 'Insurance', 'Budget', 'Elections', 'Videos']\n",
    "#values = ['https://www.livemint.com/rss/companies', 'https://www.livemint.com/rss/opinion', 'https://www.livemint.com/rss/money', 'https://www.livemint.com/rss/politics', \n",
    "#          'https://www.livemint.com/rss/science', 'https://www.livemint.com/rss/industry', 'https://www.livemint.com/rss/education', 'https://www.livemint.com/rss/sports', \n",
    "#          'https://www.livemint.com/rss/technology', 'https://www.livemint.com/rss/news', 'https://www.livemint.com/rss/markets', 'https://www.livemint.com/rss/AI', \n",
    "#          'https://www.livemint.com/rss/insurance', 'https://www.livemint.com/rss/budget', 'https://www.livemint.com/rss/elections', 'https://www.livemint.com/rss/videos' ] \n",
    "#for idx, key in enumerate(keys):\n",
    "#    dict_to_json.save_a_new_key(key, values[idx], True)\n",
    "#value = dict_to_json.get_value_from_file('Markets')\n",
    "#print(value)"
   ]
  },
  {
   "cell_type": "code",
   "execution_count": 4,
   "id": "1aa516cf-7704-47d9-94a5-a9a769f4e705",
   "metadata": {},
   "outputs": [],
   "source": [
    "#More Testing after multiline dict\n",
    "#print(dict_to_json.search_key('Economic Times', 'SMS'))\n",
    "#print(dict_to_json.get_value_from_file('Economic Times', 'IPOs and FPOs'))"
   ]
  },
  {
   "cell_type": "code",
   "execution_count": 5,
   "id": "a76243e3-99e0-48c1-a4e7-68d5ac2d20cb",
   "metadata": {},
   "outputs": [],
   "source": [
    "#print(dict_to_json.show_all_keys('Economic Times'))"
   ]
  },
  {
   "cell_type": "code",
   "execution_count": null,
   "id": "f6e8c008-8508-4b0d-bd9f-9b5be166b3f7",
   "metadata": {},
   "outputs": [],
   "source": []
  }
 ],
 "metadata": {
  "kernelspec": {
   "display_name": "Python 3 (ipykernel)",
   "language": "python",
   "name": "python3"
  },
  "language_info": {
   "codemirror_mode": {
    "name": "ipython",
    "version": 3
   },
   "file_extension": ".py",
   "mimetype": "text/x-python",
   "name": "python",
   "nbconvert_exporter": "python",
   "pygments_lexer": "ipython3",
   "version": "3.12.3"
  }
 },
 "nbformat": 4,
 "nbformat_minor": 5
}
