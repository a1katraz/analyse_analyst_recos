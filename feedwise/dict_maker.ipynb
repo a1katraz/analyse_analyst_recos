{
 "cells": [
  {
   "cell_type": "code",
   "execution_count": 1,
   "id": "af777405-3006-4567-b2ee-571c471e25dc",
   "metadata": {},
   "outputs": [],
   "source": [
    "import json\n",
    "#import os"
   ]
  },
  {
   "cell_type": "code",
   "execution_count": 2,
   "id": "605af8ee-dd70-4beb-963a-8c123ad66451",
   "metadata": {},
   "outputs": [],
   "source": [
    "class dict_to_json:\n",
    "    __file_loc = '../../keys/feed_links.json'\n",
    "\n",
    "    @classmethod\n",
    "    def save_a_new_key(cls, key: str, value: str, overwrite:bool=False)-> None:\n",
    "        #print(os.getcwd())\n",
    "        with open(cls.__file_loc, 'r') as json_file:\n",
    "            my_dict = json.load(json_file)\n",
    "        if key in my_dict and not overwrite:\n",
    "            print(f'{key} is already in the json and not overwriting. Skipping...')\n",
    "        elif key in my_dict and overwrite:\n",
    "            my_dict[key] = value\n",
    "            with open(cls.__file_loc, 'w') as json_file:\n",
    "                json.dump(my_dict, json_file, indent=4)\n",
    "            print(f'Overwrote new value for key: {key}')\n",
    "        else:\n",
    "            my_dict[key] = value\n",
    "            with open(cls.__file_loc, 'w') as json_file:\n",
    "                json.dump(my_dict, json_file, indent=4)\n",
    "            print(f'Wrote new value for key: {key}')\n",
    "        return\n",
    "\n",
    "    @classmethod\n",
    "    def get_value_from_file(cls, key: str) -> str:\n",
    "        with open(cls.__file_loc, 'r') as json_file:\n",
    "            my_dict = json.load(json_file)\n",
    "        return my_dict[key]\n",
    "            "
   ]
  },
  {
   "cell_type": "code",
   "execution_count": 3,
   "id": "9c4b2b21-3e5d-4375-b0d0-84b12f381c7f",
   "metadata": {},
   "outputs": [],
   "source": [
    "# One line tester\n",
    "#dict_user = dict_to_json()\n",
    "#value = dict_to_json.get_value_from_file('AI')\n",
    "#print(value)\n",
    "#key = 'Markets'\n",
    "#value = 'https://www.livemint.com/rss/markets'\n",
    "#dict_to_json.save_a_new_key(key, value, True)\n",
    "#value = dict_to_json.get_value_from_file('Markets')\n",
    "#print(value)"
   ]
  }
 ],
 "metadata": {
  "kernelspec": {
   "display_name": "Python 3 (ipykernel)",
   "language": "python",
   "name": "python3"
  },
  "language_info": {
   "codemirror_mode": {
    "name": "ipython",
    "version": 3
   },
   "file_extension": ".py",
   "mimetype": "text/x-python",
   "name": "python",
   "nbconvert_exporter": "python",
   "pygments_lexer": "ipython3",
   "version": "3.12.3"
  }
 },
 "nbformat": 4,
 "nbformat_minor": 5
}
