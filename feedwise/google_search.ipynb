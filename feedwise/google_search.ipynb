{
 "cells": [
  {
   "cell_type": "code",
   "execution_count": 2,
   "id": "abe1f055-4430-4d0f-aa6a-0f04ae44621d",
   "metadata": {},
   "outputs": [
    {
     "data": {
      "text/plain": [
       "True"
      ]
     },
     "execution_count": 2,
     "metadata": {},
     "output_type": "execute_result"
    }
   ],
   "source": [
    "import urllib\n",
    "import requests\n",
    "import pandas\n",
    "import json\n",
    "import os\n",
    "import sys\n",
    "import uuid\n",
    "import random\n",
    "import pprint as pp\n",
    "import dotenv as env\n",
    "env.load_dotenv('../../keys.env')\n",
    "\n",
    "#<script async src=\"https://cse.google.com/cse.js?cx=314b1cf0785af4af3\">\n",
    "#</script>\n",
    "#<div class=\"gcse-search\"></div>\n",
    "\n",
    "#API Doc here: https://developers.google.com/custom-search/v1/reference/rest/v1/cse/list"
   ]
  },
  {
   "cell_type": "code",
   "execution_count": 3,
   "id": "628ff761-52ca-4520-8b8f-f83264dea36d",
   "metadata": {},
   "outputs": [],
   "source": [
    "class google_Search:\n",
    "    __SEARCH_API_KEY = os.environ.get('SEARCH_API_KEY')\n",
    "    __cx_id = os.environ.get('SEARCH_CX_ID')\n",
    "    \n",
    "    def __init__(self):\n",
    "        return\n",
    "\n",
    "    def __sanitize_query(self, query):\n",
    "        query = query.strip()\n",
    "        sanitized_query = urllib.parse.quote_plus(query)\n",
    "        return sanitized_query\n",
    "    \n",
    "    def search(self, query, terms='None', num_pages=1, silent_mode=True) -> pandas.DataFrame:\n",
    "        if(silent_mode):\n",
    "            original_stdout = sys.stdout   # save the original stdout\n",
    "            sys.stdout = open(os.devnull, 'w')\n",
    "        uuids = []\n",
    "        headlines = []\n",
    "        links = []\n",
    "        link_id = []\n",
    "        max_page = 10   #max pages to which we can run custom search\n",
    "        if(query!=''):\n",
    "            query = self.__sanitize_query(query)\n",
    "            cur_page = 0\n",
    "            while cur_page < num_pages and cur_page < max_page :\n",
    "                url = f'https://www.googleapis.com/customsearch/v1?key={google_Search.__SEARCH_API_KEY}&cx={google_Search.__cx_id}&q={query}&exact={terms}&num=10&start={cur_page*10+1}'\n",
    "                print(f'Running search for {query} on page: {cur_page+1}')\n",
    "                response = requests.get(url)\n",
    "                if(response.status_code == 200):\n",
    "                    data = response.json()\n",
    "                    print(f'Found {len(data['items'])} on page {cur_page+1}')\n",
    "                    for item in data['items']:\n",
    "                        uuids.append(uuid.UUID(int=random.getrandbits(128), version=4))\n",
    "                        headlines.append(item['pagemap']['metatags'][0]['og:description']) #index called 'og:description  has a name of the link'\n",
    "                        links.append(item['link'])\n",
    "                        link_id.append(item['link'][-19:][:14])\n",
    "                else:\n",
    "                    print(f'Error: {response.status_code} at run page: {cur_page+1}')\n",
    "                    break\n",
    "                cur_page += 1 \n",
    "            print('Combining all outcomes...')\n",
    "            search_headlines = pandas.DataFrame({\n",
    "                                    'uuid': uuids, \n",
    "                                    'title': headlines,     #Don't change these column names, they are important for merging later \n",
    "                                    'link': links,\n",
    "                                    'link_id': link_id\n",
    "                                    })\n",
    "            search_headlines.insert(1, 'site', 'Livemint')  #Because currently our search engine is set to search on LiveMint.\n",
    "            \n",
    "            print('Deduping links...')\n",
    "            search_headlines.drop_duplicates(subset=['link_id'], keep='first', inplace=True, ignore_index=True)\n",
    "            if(silent_mode):\n",
    "                sys.stdout.close()\n",
    "                sys.stdout = original_stdout    #restore the original stdout, other wise it will fail other prints.\n",
    "            return search_headlines\n",
    "        else:\n",
    "            if(silent_mode):\n",
    "                sys.stdout.close()\n",
    "                sys.stdout = original_stdout\n",
    "            return None"
   ]
  },
  {
   "cell_type": "code",
   "execution_count": 4,
   "id": "454e62d8-bc53-43f9-81a5-869382e2a4e4",
   "metadata": {},
   "outputs": [
    {
     "name": "stdout",
     "output_type": "stream",
     "text": [
      "                                   uuid      site  \\\n",
      "0  dafc104a-5e23-4768-a64d-44df9951b250  Livemint   \n",
      "1  dd81bffb-3f66-4f9c-91e2-b2b14883cac8  Livemint   \n",
      "2  8e3168a6-a4b8-4886-88d6-4f5323a01355  Livemint   \n",
      "3  77c12b20-88a2-4c00-9eed-16955c21d91b  Livemint   \n",
      "4  59adad60-de95-4440-8ac6-2f87fb9f806a  Livemint   \n",
      "5  150dd104-33d2-4fa7-b341-ae01e4b0198a  Livemint   \n",
      "6  a1e59a12-c453-4805-bc4a-59347753b5eb  Livemint   \n",
      "7  4ad0f1e8-c584-4968-bd00-54d61b080648  Livemint   \n",
      "8  41f9d3fa-7a94-4a3f-9864-8c6fab4dd30b  Livemint   \n",
      "9  c345849c-cf11-4c24-b780-0875e357736c  Livemint   \n",
      "\n",
      "                                               title  \\\n",
      "0  Buy or sell: Vaishali Parekh recommends three ...   \n",
      "1  Buy or sell: Vaishali Parekh recommends three ...   \n",
      "2  Buy or sell: Baishali Parekh recommends three ...   \n",
      "3  Stocks to buy under  ₹100: Vaishali Parekh rec...   \n",
      "4  Buy or sell: Amid escalating tension of India-...   \n",
      "5  Buy or sell stocks: Vaishali Parekh recommends...   \n",
      "6  Buy or sell stocks: Vaishali Parekh recommends...   \n",
      "7  Buy or sell: Vaishali Parekh recommends three ...   \n",
      "8  Buy or sell: Vaishali Parekh recommends three ...   \n",
      "9  Buy or sell: Vaishali Parekh recommends three ...   \n",
      "\n",
      "                                                link         link_id  \n",
      "0  https://www.livemint.com/market/stock-market-n...  11747186092836  \n",
      "1  https://www.livemint.com/market/stock-market-n...  11747100200118  \n",
      "2  https://www.livemint.com/market/stock-market-n...  11747273302357  \n",
      "3  https://www.livemint.com/market/stock-market-n...  11744939879703  \n",
      "4  https://www.livemint.com/market/stock-market-n...  11746754789451  \n",
      "5  https://www.livemint.com/market/stock-market-n...  11745342643221  \n",
      "6  https://www.livemint.com/market/stock-market-n...  11746551900883  \n",
      "7  https://www.livemint.com/market/stock-market-n...  11747618471178  \n",
      "8  https://www.livemint.com/market/stock-market-n...  11747705717100  \n",
      "9  https://www.livemint.com/market/stock-market-n...  11746667555532  \n"
     ]
    }
   ],
   "source": [
    "#one line tester\n",
    "\n",
    "#search_engine = google_Search()\n",
    "#links = search_engine.search(query='Vaishali Parekh', terms='Buy', num_pages=1, silent_mode=True)\n",
    "#pp.pprint(links)"
   ]
  },
  {
   "cell_type": "code",
   "execution_count": null,
   "id": "22fc4cf3-5c81-4f23-8481-b4e28b483cff",
   "metadata": {},
   "outputs": [],
   "source": []
  }
 ],
 "metadata": {
  "kernelspec": {
   "display_name": "Python 3 (ipykernel)",
   "language": "python",
   "name": "python3"
  },
  "language_info": {
   "codemirror_mode": {
    "name": "ipython",
    "version": 3
   },
   "file_extension": ".py",
   "mimetype": "text/x-python",
   "name": "python",
   "nbconvert_exporter": "python",
   "pygments_lexer": "ipython3",
   "version": "3.12.3"
  }
 },
 "nbformat": 4,
 "nbformat_minor": 5
}
