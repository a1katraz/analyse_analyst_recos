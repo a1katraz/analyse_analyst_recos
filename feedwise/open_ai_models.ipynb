{
 "cells": [
  {
   "cell_type": "code",
   "execution_count": 1,
   "id": "35f8647a-01b4-4830-86c4-a009f9c1c32b",
   "metadata": {},
   "outputs": [
    {
     "data": {
      "text/plain": [
       "True"
      ]
     },
     "execution_count": 1,
     "metadata": {},
     "output_type": "execute_result"
    }
   ],
   "source": [
    "import os\n",
    "import dotenv as env\n",
    "from pydantic import BaseModel\n",
    "from openai import OpenAI\n",
    "import json\n",
    "import pandas\n",
    "import pprint as pp\n",
    "import sys\n",
    "\n",
    "env.load_dotenv('../../keys/keys.env')"
   ]
  },
  {
   "cell_type": "code",
   "execution_count": 2,
   "id": "9be4b98f-dda6-4418-b4c7-45f84daaadae",
   "metadata": {},
   "outputs": [],
   "source": [
    "class HeadlineClassification(BaseModel):\n",
    "    title: str                          #Do not change the name of this field as OpenAI is dumb. If you keep it as inputs, then only it returns the original text sent to it.\n",
    "                                        # Will have to carefully write wrappers to ensure that the outcome df to be used in the final output has the right headers. \n",
    "    classification: bool\n",
    "    explanation: str"
   ]
  },
  {
   "cell_type": "code",
   "execution_count": 3,
   "id": "f7e19829-59e0-4e24-92a2-99fad261c0e6",
   "metadata": {},
   "outputs": [],
   "source": [
    "class listClassifications(BaseModel):\n",
    "    output: list[HeadlineClassification]"
   ]
  },
  {
   "cell_type": "code",
   "execution_count": 4,
   "id": "51505330-a13d-4252-bdd7-df65f6b651de",
   "metadata": {},
   "outputs": [],
   "source": [
    "class Recommendations(BaseModel):\n",
    "    reco_date: str\n",
    "    analyst: str\n",
    "    house: str\n",
    "    stock_name: str\n",
    "    instrument_type: str\n",
    "    ticker: str\n",
    "    current_value: float\n",
    "    target_value: float\n",
    "    sl_value: float\n",
    "    timeframe: str"
   ]
  },
  {
   "cell_type": "code",
   "execution_count": 5,
   "id": "6a9695ab-3571-4c2f-be13-6949eb9ba335",
   "metadata": {},
   "outputs": [],
   "source": [
    "class listRecommendations(BaseModel):\n",
    "    output: list[Recommendations]"
   ]
  },
  {
   "cell_type": "code",
   "execution_count": 6,
   "id": "d484e165-e4be-4e79-81ae-f76f11451dfe",
   "metadata": {},
   "outputs": [],
   "source": [
    "class scrips(BaseModel):\n",
    "    company_name: str\n",
    "    ticker: str"
   ]
  },
  {
   "cell_type": "code",
   "execution_count": 7,
   "id": "3428fedb-d05c-416e-9bfa-02e8d7f6fce4",
   "metadata": {},
   "outputs": [],
   "source": [
    "class listScrips(BaseModel):\n",
    "    output: list[scrips]"
   ]
  },
  {
   "cell_type": "code",
   "execution_count": 8,
   "id": "de18e775-1cb4-4a22-a914-a10f0b67e4ab",
   "metadata": {},
   "outputs": [],
   "source": [
    "class OpenAIModels:\n",
    "    #__client: \n",
    "    __model_name = 'gpt-4.1-nano-2025-04-14'\n",
    "    __prompt_file_path = '../../prompts/open_ai_prompts.json'\n",
    "\n",
    "    def __init__(self):\n",
    "        #self.__model_name = 'gpt-4.1-nano-2025-04-14'\n",
    "        #self.__prompt_file_path = '../prompts/open_ai_prompts.json'\n",
    "        self.__client = OpenAI(api_key=os.environ.get('OPENAI_API_KEY'))\n",
    "    \n",
    "    def __getPromptFromFile(self, type: str) -> str:\n",
    "        with open(OpenAIModels.__prompt_file_path, 'r') as file:\n",
    "            data = file.read()\n",
    "        parsed_data = json.loads(data)\n",
    "        prompt = parsed_data.get(type)\n",
    "        return prompt\n",
    "    \n",
    "    def classify_headlines(self, input: pandas.Series, silent_mode=True) -> str :\n",
    "        if(silent_mode):\n",
    "            original_stdout = sys.stdout   # save the original stdout\n",
    "            sys.stdout = open(os.devnull, 'w')\n",
    "        prompt = self.__getPromptFromFile('headlines_classifier') \n",
    "        print('Sending titles for classification to OpenAI model...')\n",
    "        print(f'Input is of length: {len(input)}.')\n",
    "        try:\n",
    "            response = self.__client.responses.parse(\n",
    "                        model=OpenAIModels.__model_name,\n",
    "                        #service_tier='default',\n",
    "                        temperature=1.0,\n",
    "                        instructions=prompt, \n",
    "                        input=input.to_json(),\n",
    "                        text_format=listClassifications\n",
    "                    )\n",
    "            return response.output_text\n",
    "        except Exception as e:\n",
    "            print(f'Open AI execution threw an exception: {e}')\n",
    "            return None\n",
    "        finally:\n",
    "            if(silent_mode):\n",
    "                sys.stdout.close()\n",
    "                sys.stdout = original_stdout    #restore the original stdout, other wise it will fail other prints.\n",
    "            #Since the textformat here is a class wrapper of lists\n",
    "            # So the return response must be handled to strip the 'output' dictionary to get to the inner lists\n",
    "\n",
    "    def gather_articles_susbtance(self, input: pandas.DataFrame, silent_mode=True) -> str:\n",
    "        if(silent_mode):\n",
    "            original_stdout = sys.stdout   # save the original stdout\n",
    "            sys.stdout = open(os.devnull, 'w')\n",
    "        \n",
    "        ##TODO\n",
    "        prompt = self.__getPromptFromFile('article_substance')\n",
    "        print('Sending article to OpenAI for gathering recommendation table...')\n",
    "        try:\n",
    "            response = self.__client.responses.parse(\n",
    "                        model=OpenAIModels.__model_name,\n",
    "                        #service_tier='default',\n",
    "                        temperature=1.0,\n",
    "                        instructions=prompt, \n",
    "                        input=input.to_json(orient='records'),   #orint in this form as it is a dataframe and not a series.\n",
    "                        text_format=listRecommendations   \n",
    "                    )\n",
    "            return response.output_text\n",
    "        except Exception as e:\n",
    "            print(f'Open AI execution thew an error: {e}')\n",
    "            return None\n",
    "        finally:\n",
    "            if(silent_mode):\n",
    "                sys.stdout.close()\n",
    "                sys.stdout = original_stdout    #restore the original stdout, other wise it will fail other prints.\n",
    "\n",
    "    def gather_tickers(self, input: pandas.Series, silent_mode=True) -> str:\n",
    "        if(silent_mode):\n",
    "            original_stdout = sys.stdout   # save the original stdout\n",
    "            sys.stdout = open(os.devnull, 'w')\n",
    "        \n",
    "        ##TODO\n",
    "        prompt = self.__getPromptFromFile('scrip_names')\n",
    "        print('Sending list to OpenAI for gathering scrip names...')\n",
    "        try:\n",
    "            response = self.__client.responses.parse(\n",
    "                        model=OpenAIModels.__model_name,\n",
    "                        #service_tier='default',\n",
    "                        temperature=1.0,\n",
    "                        instructions=prompt, \n",
    "                        input=input.to_json(),\n",
    "                        text_format=listScrips   \n",
    "                    )\n",
    "            return response.output_text\n",
    "        except Exception as e:\n",
    "            print(f'Open AI execution threw an error: {e}')\n",
    "            return None\n",
    "        finally:\n",
    "            if(silent_mode):\n",
    "                sys.stdout.close()\n",
    "                sys.stdout = original_stdout    #restore the original stdout, other wise it will fail other prints."
   ]
  },
  {
   "cell_type": "code",
   "execution_count": 9,
   "id": "fc58aab6-b541-458f-bc11-717ca3a8195d",
   "metadata": {},
   "outputs": [],
   "source": [
    "# Tester\n",
    "\n",
    "#model = OpenAIModels()\n",
    "#hl = ['Write a one-sentence bedtime story about a unicorn', \n",
    "#        'Hello my man xx!', \n",
    "#        'Sumeet Bagadia recommended buying these seven stock to buy',\n",
    "#        'OpenAI is inconsistent!',\n",
    "#        ]\n",
    "#hl_series = pandas.Series(hl)\n",
    "#response = model.classify_headlines(hl_series)\n",
    "#pp.pprint(json.loads(response)['output'])"
   ]
  },
  {
   "cell_type": "code",
   "execution_count": 10,
   "id": "c72061d4-440f-4f71-9d64-e8bc998d808c",
   "metadata": {},
   "outputs": [
    {
     "name": "stdout",
     "output_type": "stream",
     "text": [
      "Sending article to OpenAI for gathering recommendation table...\n",
      "[{'analyst': 'Jay Thakkar',\n",
      "  'current_value': 765,\n",
      "  'house': 'ICICI Securities',\n",
      "  'instrument_type': 'Futures',\n",
      "  'reco_date': '2025-05-28',\n",
      "  'sl_value': 730,\n",
      "  'stock_name': 'CONCOR',\n",
      "  'target_value': 850,\n",
      "  'ticker': 'CONCOR',\n",
      "  'timeframe': 'June'},\n",
      " {'analyst': 'Jay Thakkar',\n",
      "  'current_value': 900,\n",
      "  'house': 'ICICI Securities',\n",
      "  'instrument_type': 'Futures',\n",
      "  'reco_date': '2025-05-28',\n",
      "  'sl_value': 865,\n",
      "  'stock_name': 'Tata Chemicals',\n",
      "  'target_value': 950,\n",
      "  'ticker': 'N/A',\n",
      "  'timeframe': 'June'},\n",
      " {'analyst': 'Jay Thakkar',\n",
      "  'current_value': 480,\n",
      "  'house': 'ICICI Securities',\n",
      "  'instrument_type': 'Futures',\n",
      "  'reco_date': '2025-05-28',\n",
      "  'sl_value': 470,\n",
      "  'stock_name': 'Dabur India',\n",
      "  'target_value': 525,\n",
      "  'ticker': 'N/A',\n",
      "  'timeframe': 'June'}]\n"
     ]
    }
   ],
   "source": [
    "#Tester\n",
    "\n",
    "#import ipynb.fs.full.gather_hl_and_articles as reader\n",
    "\n",
    "#rdr = reader.Livemint_reader()\n",
    "#model = OpenAIModels()\n",
    "\n",
    "#frame = rdr.read_article('https://www.livemint.com/market/stock-market-news/concor-to-dabur-india-jay-thakkar-suggests-three-stocks-to-buy-for-short-term-in-f-o-segment-11748414675124.html')\n",
    "#response = model.gather_articles_susbtance(frame, silent_mode=False)\n",
    "#pp.pprint(json.loads(response)['output'])"
   ]
  },
  {
   "cell_type": "code",
   "execution_count": null,
   "id": "82033618-4763-4b03-97fc-43099e54e2cd",
   "metadata": {},
   "outputs": [],
   "source": []
  }
 ],
 "metadata": {
  "kernelspec": {
   "display_name": "Python 3 (ipykernel)",
   "language": "python",
   "name": "python3"
  },
  "language_info": {
   "codemirror_mode": {
    "name": "ipython",
    "version": 3
   },
   "file_extension": ".py",
   "mimetype": "text/x-python",
   "name": "python",
   "nbconvert_exporter": "python",
   "pygments_lexer": "ipython3",
   "version": "3.12.3"
  }
 },
 "nbformat": 4,
 "nbformat_minor": 5
}
