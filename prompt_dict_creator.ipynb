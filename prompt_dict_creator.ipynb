{
 "cells": [
  {
   "cell_type": "code",
   "execution_count": 1,
   "id": "dc38feeb-2242-42cb-bdd0-3225d61e78b8",
   "metadata": {},
   "outputs": [],
   "source": [
    "import json\n",
    "import pprint as pp"
   ]
  },
  {
   "cell_type": "code",
   "execution_count": 2,
   "id": "b0fe2b19-6832-41b3-b5a8-29fc864a7048",
   "metadata": {},
   "outputs": [],
   "source": [
    "main_folder = '../prompts/'\n",
    "filename = 'give_a_name.json'\n",
    "\n",
    "prompt = { 'headlines_classifier_test':\n",
    "            '''\n",
    "             You are a text analyser to classify if a given sentence has a recommendation for acting on any stocks. \n",
    "             You are given a json list of individual sentences. Operate on each sentence as per the following logic.\n",
    "             Looking only at the contents of each the sentences and identifying words like *recommend*, *buy*, and phrases like *what to buy*, *which to buy*, *buy or sell*, you classify \n",
    "             if the sentence points to an explicit recommendation.\n",
    "             Your output should be a True or a False where True means that the sentence has a stock recommendation and False means it does not.\n",
    "             Explain your classifying logic for the given sentence in 50 characters.\n",
    "             Return your response as the original sentence, your classification and your classifying logic against each sentence. \n",
    "            '''\n",
    "        }\n",
    "with open(f'{main_folder}{filename}', 'w') as fp:\n",
    "    json.dump(prompt, fp)"
   ]
  },
  {
   "cell_type": "code",
   "execution_count": 3,
   "id": "8e535b2e-f190-4e28-9dd7-b2597fad2ae2",
   "metadata": {},
   "outputs": [
    {
     "name": "stdout",
     "output_type": "stream",
     "text": [
      "('\\n'\n",
      " '             You are a text analyser to classify if a given sentence has a '\n",
      " 'recommendation for acting on any stocks. \\n'\n",
      " '             You are given a json list of individual sentences. Operate on '\n",
      " 'each sentence as per the following logic.\\n'\n",
      " '             Looking only at the contents of each the sentences and '\n",
      " 'identifying words like *recommend*, *buy*, and phrases like *what to buy*, '\n",
      " '*which to buy*, *buy or sell*, you classify \\n'\n",
      " '             if the sentence points to an explicit recommendation.\\n'\n",
      " '             Your output should be a True or a False where True means that '\n",
      " 'the sentence has a stock recommendation and False means it does not.\\n'\n",
      " '             Explain your classifying logic for the given sentence in 50 '\n",
      " 'characters.\\n'\n",
      " '             Return your response as the original sentence, your '\n",
      " 'classification and your classifying logic against each sentence. \\n'\n",
      " '            ')\n"
     ]
    }
   ],
   "source": [
    "with open(f'{main_folder}{filename}', 'r') as file:\n",
    "    data = file.read()\n",
    "parsed_data = json.loads(data)\n",
    "pp.pprint(parsed_data.get('headlines_classifier_test'))"
   ]
  },
  {
   "cell_type": "code",
   "execution_count": null,
   "id": "701128a8-4e3e-47b6-9b7b-d2ca57bdfbb0",
   "metadata": {},
   "outputs": [],
   "source": []
  }
 ],
 "metadata": {
  "kernelspec": {
   "display_name": "Python 3 (ipykernel)",
   "language": "python",
   "name": "python3"
  },
  "language_info": {
   "codemirror_mode": {
    "name": "ipython",
    "version": 3
   },
   "file_extension": ".py",
   "mimetype": "text/x-python",
   "name": "python",
   "nbconvert_exporter": "python",
   "pygments_lexer": "ipython3",
   "version": "3.12.3"
  }
 },
 "nbformat": 4,
 "nbformat_minor": 5
}
