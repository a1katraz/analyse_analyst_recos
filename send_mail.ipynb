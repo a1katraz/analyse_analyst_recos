{
 "cells": [
  {
   "cell_type": "code",
   "execution_count": 9,
   "id": "ee264497-1cb5-44a8-99f0-85406e139ad5",
   "metadata": {},
   "outputs": [],
   "source": [
    "import smtplib\n",
    "from email.mime.text import MIMEText\n",
    "from email.mime.multipart import MIMEMultipart\n",
    "#import pandas as pd"
   ]
  },
  {
   "cell_type": "code",
   "execution_count": 10,
   "id": "19d0d1c0-40bc-438d-b817-2147d09371ac",
   "metadata": {},
   "outputs": [
    {
     "name": "stdout",
     "output_type": "stream",
     "text": [
      "Email sent successfully!\n"
     ]
    }
   ],
   "source": [
    "def send_email(sender_email, recipient_email, subject, body):\n",
    "    # Create the email\n",
    "    msg = MIMEMultipart()\n",
    "    msg['From'] = sender_email\n",
    "    msg['To'] = ', '.join(recipient_email)\n",
    "    msg['Subject'] = subject\n",
    "\n",
    "    #dataframe = pd.DataFrame([['Vishal', 'Maths', 99], ['Sonal', 'English', 60]], columns=['Name', 'Sub', 'Marks'])\n",
    "    html = body.to_html(index=False, border=1)\n",
    "    \n",
    "    # Attach the email body\n",
    "    msg.attach(MIMEText(html, 'html'))\n",
    "\n",
    "    try:\n",
    "        # Create a secure SSL context\n",
    "        with smtplib.SMTP('localhost', 25) as server:   # This whole shenanigan of a local SMTP server might not have been required, \n",
    "                                                        # you could have directly connected with the Amazon SES server as well with the right credentials.\n",
    "                                                        # But we didn't know that when we started, so here we are.\n",
    "            server.starttls()  # Upgrade the connection to a secure encrypted SSL/TLS connection\n",
    "            #server.login(sender_email, sender_password)  # Log in to the email account\n",
    "            server.send_message(msg)  # Send the email\n",
    "\n",
    "        print(\"Email sent successfully!\")\n",
    "        \n",
    "    except Exception as e:\n",
    "        print(f\"Error: {e}\")\n",
    "\n",
    "# Example of how to use the function\n",
    "#send_email(\n",
    "#    sender_email='me@vishalvivek.com',\n",
    "#    #sender_password='your_password',  # Use an app password if 2FA is enabled\n",
    "#    recipient_email=['vishalvivek8@gmail.com', 'vishalvivek8@hotmail.com'],\n",
    "#    subject='Hello from Python3!',\n",
    "#    body='This is a test email sent from Python! Jhakass! Wait for more. What names do you see?'\n",
    "#)"
   ]
  },
  {
   "cell_type": "code",
   "execution_count": null,
   "id": "01970ef2-4596-4782-827b-d5d3cb9b2402",
   "metadata": {},
   "outputs": [],
   "source": []
  }
 ],
 "metadata": {
  "kernelspec": {
   "display_name": "Python 3 (ipykernel)",
   "language": "python",
   "name": "python3"
  },
  "language_info": {
   "codemirror_mode": {
    "name": "ipython",
    "version": 3
   },
   "file_extension": ".py",
   "mimetype": "text/x-python",
   "name": "python",
   "nbconvert_exporter": "python",
   "pygments_lexer": "ipython3",
   "version": "3.12.3"
  }
 },
 "nbformat": 4,
 "nbformat_minor": 5
}
