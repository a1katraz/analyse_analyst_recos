{
 "cells": [
  {
   "cell_type": "code",
   "execution_count": 1,
   "id": "1a3c2531-eb4f-4563-b08e-925e242b9d57",
   "metadata": {},
   "outputs": [],
   "source": [
    "import ipynb.fs.full.get_news_headlines as gethl\n",
    "import ipynb.fs.full.write_data as gswd\n",
    "import pandas\n",
    "import json\n",
    "import os"
   ]
  },
  {
   "cell_type": "code",
   "execution_count": 7,
   "id": "49dc1f99-b242-4ec4-9121-76474ae03534",
   "metadata": {},
   "outputs": [],
   "source": [
    "def main():\n",
    "    try:\n",
    "        hl = gethl.read_livemint()  #Get headlines\n",
    "        if(not(hl.empty)):\n",
    "            classified_hl = pandas.DataFrame(json.loads(gethl.classify_headlines(hl['title'].tolist())))  # converting to json the model reply from Gemini AI.\n",
    "            classified_titles = hl.join(classified_hl, lsuffix='_orig', rsuffix='_copy')   #make one df given with surety that matching is happening on indexes because Title matching used to give missed matches.. \n",
    "            #classified_titles = classified_titles[classified_titles.classification]  #keeping only the titles with a analyst recommerndation here.\n",
    "            gswd.write_headlines(classified_titles)  #write titles to a google file\n",
    "        else:\n",
    "            print('No Headlines Received')\n",
    "    except Exception as e:\n",
    "        print(e)\n",
    "    return 0"
   ]
  },
  {
   "cell_type": "code",
   "execution_count": 8,
   "id": "3fce2d12-bffe-4cb0-a473-a63f4dc6e38a",
   "metadata": {},
   "outputs": [],
   "source": [
    "if __name__ == '__main__':\n",
    "    hl = main()"
   ]
  },
  {
   "cell_type": "code",
   "execution_count": null,
   "id": "58199546-fe8e-4ce2-8d0e-e565052d28a4",
   "metadata": {},
   "outputs": [],
   "source": []
  }
 ],
 "metadata": {
  "kernelspec": {
   "display_name": "Python 3 (ipykernel)",
   "language": "python",
   "name": "python3"
  },
  "language_info": {
   "codemirror_mode": {
    "name": "ipython",
    "version": 3
   },
   "file_extension": ".py",
   "mimetype": "text/x-python",
   "name": "python",
   "nbconvert_exporter": "python",
   "pygments_lexer": "ipython3",
   "version": "3.12.3"
  }
 },
 "nbformat": 4,
 "nbformat_minor": 5
}
