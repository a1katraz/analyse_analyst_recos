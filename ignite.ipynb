{
 "cells": [
  {
   "cell_type": "code",
   "execution_count": 1,
   "id": "1a3c2531-eb4f-4563-b08e-925e242b9d57",
   "metadata": {},
   "outputs": [
    {
     "ename": "ModuleNotFoundError",
     "evalue": "No module named 'ipynb.fs.full.write_data'",
     "output_type": "error",
     "traceback": [
      "\u001b[31m---------------------------------------------------------------------------\u001b[39m",
      "\u001b[31mModuleNotFoundError\u001b[39m                       Traceback (most recent call last)",
      "\u001b[36mCell\u001b[39m\u001b[36m \u001b[39m\u001b[32mIn[1]\u001b[39m\u001b[32m, line 3\u001b[39m\n\u001b[32m      1\u001b[39m \u001b[38;5;28;01mimport\u001b[39;00m\u001b[38;5;250m \u001b[39m\u001b[34;01mipynb\u001b[39;00m\u001b[34;01m.\u001b[39;00m\u001b[34;01mfs\u001b[39;00m\u001b[34;01m.\u001b[39;00m\u001b[34;01mfull\u001b[39;00m\u001b[34;01m.\u001b[39;00m\u001b[34;01mget_news_headlines\u001b[39;00m\u001b[38;5;250m \u001b[39m\u001b[38;5;28;01mas\u001b[39;00m\u001b[38;5;250m \u001b[39m\u001b[34;01mgethl\u001b[39;00m\n\u001b[32m      2\u001b[39m \u001b[38;5;28;01mimport\u001b[39;00m\u001b[38;5;250m \u001b[39m\u001b[34;01mipynb\u001b[39;00m\u001b[34;01m.\u001b[39;00m\u001b[34;01mfs\u001b[39;00m\u001b[34;01m.\u001b[39;00m\u001b[34;01mfull\u001b[39;00m\u001b[34;01m.\u001b[39;00m\u001b[34;01mget_article_content\u001b[39;00m\u001b[38;5;250m \u001b[39m\u001b[38;5;28;01mas\u001b[39;00m\u001b[38;5;250m \u001b[39m\u001b[34;01mgetart\u001b[39;00m\n\u001b[32m----> \u001b[39m\u001b[32m3\u001b[39m \u001b[38;5;28;01mimport\u001b[39;00m\u001b[38;5;250m \u001b[39m\u001b[34;01mipynb\u001b[39;00m\u001b[34;01m.\u001b[39;00m\u001b[34;01mfs\u001b[39;00m\u001b[34;01m.\u001b[39;00m\u001b[34;01mfull\u001b[39;00m\u001b[34;01m.\u001b[39;00m\u001b[34;01mwrite_data\u001b[39;00m\u001b[38;5;250m \u001b[39m\u001b[38;5;28;01mas\u001b[39;00m\u001b[38;5;250m \u001b[39m\u001b[34;01mgswd\u001b[39;00m\n\u001b[32m      4\u001b[39m \u001b[38;5;28;01mimport\u001b[39;00m\u001b[38;5;250m \u001b[39m\u001b[34;01mipynb\u001b[39;00m\u001b[34;01m.\u001b[39;00m\u001b[34;01mfs\u001b[39;00m\u001b[34;01m.\u001b[39;00m\u001b[34;01mfull\u001b[39;00m\u001b[34;01m.\u001b[39;00m\u001b[34;01mread_data\u001b[39;00m\u001b[38;5;250m \u001b[39m\u001b[38;5;28;01mas\u001b[39;00m\u001b[38;5;250m \u001b[39m\u001b[34;01mgsrd\u001b[39;00m \n\u001b[32m      5\u001b[39m \u001b[38;5;28;01mimport\u001b[39;00m\u001b[38;5;250m \u001b[39m\u001b[34;01mipynb\u001b[39;00m\u001b[34;01m.\u001b[39;00m\u001b[34;01mfs\u001b[39;00m\u001b[34;01m.\u001b[39;00m\u001b[34;01mfull\u001b[39;00m\u001b[34;01m.\u001b[39;00m\u001b[34;01msend_mail\u001b[39;00m\u001b[38;5;250m \u001b[39m\u001b[38;5;28;01mas\u001b[39;00m\u001b[38;5;250m \u001b[39m\u001b[34;01mmail\u001b[39;00m \n",
      "\u001b[31mModuleNotFoundError\u001b[39m: No module named 'ipynb.fs.full.write_data'"
     ]
    }
   ],
   "source": [
    "import ipynb.fs.full.get_news_headlines as gethl\n",
    "import ipynb.fs.full.get_article_content as getart\n",
    "import ipynb.fs.full.write_data as gswd\n",
    "import ipynb.fs.full.read_data as gsrd \n",
    "import ipynb.fs.full.send_mail as mail \n",
    "import pandas\n",
    "import json\n",
    "import os"
   ]
  },
  {
   "cell_type": "code",
   "execution_count": 2,
   "id": "49dc1f99-b242-4ec4-9121-76474ae03534",
   "metadata": {},
   "outputs": [],
   "source": [
    "def main():\n",
    "    try:\n",
    "        hl = gethl.read_livemint_headlines()  #Get headlines\n",
    "        #outcomes = pandas.DataFrame()\n",
    "        \n",
    "        if(not(hl.empty)):\n",
    "            \n",
    "            classified_hl = pandas.DataFrame(json.loads(gethl.classify_headlines(hl['title'])))  # converting to json the model reply from Gemini AI.\n",
    "            classified_titles = hl.join(classified_hl, lsuffix='_orig', rsuffix='_copy')   #make one df given with surety that matching is happening on indexes because Title matching used to give missed matches.. \n",
    "            classified_titles = classified_titles[classified_titles.classification]  #keeping only the titles with a analyst recommerndation here.\n",
    "            classified_titles.drop_duplicates(subset=['link_id'], keep='first', inplace=True, ignore_index=False)        #remove duplicates that can creep in from multiple uls   \n",
    "\n",
    "            print(f'Found {classified_titles.shape[0]} articles of interest. Proceeding to analyse these articles...')\n",
    "            \n",
    "            gswd.write_headlines(classified_titles)  #write titles to a google file\n",
    "\n",
    "            for idx, row in classified_titles.iterrows():\n",
    "                print(f'Analysing article {row['link']}...')\n",
    "                article = getart.get_livemint_articles(row['link'])   #read each article and get it title, subheader, body, and date\n",
    "                table = getart.get_value_table(article)               # send it to to LLM to make sense of it \n",
    "                value_table = pandas.DataFrame(json.loads(table))      # Store the outcomes\n",
    "                print(f'Found {value_table.shape[0]} recommendations in  article.')\n",
    "                if(not(value_table.empty)):\n",
    "                    value_table.insert(0, 'uuid', str(row['uuid']))    # This UUID object is not serializable so better we convert it to string here\n",
    "                    #value_table.insert(1, 'link', row['link'])        #Just having the UUID should solve the problem  now.\n",
    "                    #value_table.insert(2, 'site', 'Livemint')\n",
    "                    #print(value_table)\n",
    "                    gswd.write_recommendations(value_table)\n",
    "                else:\n",
    "                    print(f'No recommendations received for article: {row['link']}')\n",
    "\n",
    "            #Wrong implementation of emailing below. \n",
    "            #Incase I didn't find any artcile of interest today, I should be sending a blank email, not the last days. \n",
    "            recos = gsrd.read_latest_recos()\n",
    "            mail.send_email(sender_email='me@vishalvivek.com', \n",
    "                    recipient_email=['vishalvivek8@gmail.com', 'vishalvivek8@hotmail.com'], \n",
    "                    subject=f'Latest recommendations for the day: {recos.iloc[0, 0]}',\n",
    "                    body = recos\n",
    "              )\n",
    "            \n",
    "            print('Exiting process. Bye!')    \n",
    "        else:\n",
    "            print('No Headlines Received')\n",
    "    except Exception as e:\n",
    "        print(e)\n",
    "    return 0"
   ]
  },
  {
   "cell_type": "code",
   "execution_count": 3,
   "id": "3fce2d12-bffe-4cb0-a473-a63f4dc6e38a",
   "metadata": {},
   "outputs": [
    {
     "name": "stdout",
     "output_type": "stream",
     "text": [
      "Executing headline classification for 35 headlines\n",
      "Found 0 articles of interest. Proceeding to analyse these articles...\n",
      "Wrote 0 lines to Links sheet in the workbook\n",
      "Email sent successfully!\n",
      "Exiting process. Bye!\n"
     ]
    }
   ],
   "source": [
    "if __name__ == '__main__':\n",
    "    hl = main()"
   ]
  },
  {
   "cell_type": "code",
   "execution_count": null,
   "id": "33ec3217-2826-46dd-8e88-44af1522ff81",
   "metadata": {},
   "outputs": [],
   "source": []
  }
 ],
 "metadata": {
  "kernelspec": {
   "display_name": "Python 3 (ipykernel)",
   "language": "python",
   "name": "python3"
  },
  "language_info": {
   "codemirror_mode": {
    "name": "ipython",
    "version": 3
   },
   "file_extension": ".py",
   "mimetype": "text/x-python",
   "name": "python",
   "nbconvert_exporter": "python",
   "pygments_lexer": "ipython3",
   "version": "3.12.3"
  }
 },
 "nbformat": 4,
 "nbformat_minor": 5
}
