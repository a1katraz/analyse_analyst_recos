{
 "cells": [
  {
   "cell_type": "code",
   "execution_count": 1,
   "id": "35f8647a-01b4-4830-86c4-a009f9c1c32b",
   "metadata": {},
   "outputs": [
    {
     "data": {
      "text/plain": [
       "True"
      ]
     },
     "execution_count": 1,
     "metadata": {},
     "output_type": "execute_result"
    }
   ],
   "source": [
    "import os\n",
    "import dotenv as env\n",
    "from pydantic import BaseModel\n",
    "from openai import OpenAI\n",
    "import json\n",
    "import pandas\n",
    "import pprint as pp\n",
    "env.load_dotenv('../keys.env')"
   ]
  },
  {
   "cell_type": "code",
   "execution_count": 2,
   "id": "9be4b98f-dda6-4418-b4c7-45f84daaadae",
   "metadata": {},
   "outputs": [],
   "source": [
    "class HeadlineClassification(BaseModel):\n",
    "    title: str                          #Do not change the name of this field as OpenAI is dumb. If you keep it as inputs, then only it returns the original text sent to it.\n",
    "                                        # Will have to carefully write wrappers to ensure that the outcome df to be used in the final output has the right headers. \n",
    "    classification: str\n",
    "    explanation: str"
   ]
  },
  {
   "cell_type": "code",
   "execution_count": 3,
   "id": "f7e19829-59e0-4e24-92a2-99fad261c0e6",
   "metadata": {},
   "outputs": [],
   "source": [
    "class listClassifications(BaseModel):\n",
    "    output: list[HeadlineClassification]"
   ]
  },
  {
   "cell_type": "code",
   "execution_count": 4,
   "id": "de18e775-1cb4-4a22-a914-a10f0b67e4ab",
   "metadata": {},
   "outputs": [],
   "source": [
    "class OpenAIModels:\n",
    "    __client = OpenAI(api_key=os.environ.get('OPENAI_API_KEY'))\n",
    "    __model_name= 'gpt-4.1-nano-2025-04-14'\n",
    "    __prompt_file_path = '../prompts/open_ai_prompts.json'\n",
    "    \n",
    "    def __getPromptFromFile(self, type):\n",
    "        with open(self.__prompt_file_path, 'r') as file:\n",
    "            data = file.read()\n",
    "        parsed_data = json.loads(data)\n",
    "        prompt = parsed_data.get(type)\n",
    "        return prompt\n",
    "    \n",
    "    def classify_headlines(self, input) :\n",
    "        prompt = self.__getPromptFromFile('headlines_classifier') \n",
    "        response = self.__client.responses.parse(\n",
    "                    model=self.__model_name,\n",
    "                    #service_tier='default',\n",
    "                    temperature=1.0,\n",
    "                    instructions=prompt, \n",
    "                    input=input.to_json(),\n",
    "                    text_format=listClassifications\n",
    "            \n",
    "                )\n",
    "        #Since the textformat here is a class wrapper of lists\n",
    "        # So the return response must be handled to strip the 'output' dictionary to get to the inner lists\n",
    "        return(response.output_text)\n",
    "        "
   ]
  },
  {
   "cell_type": "code",
   "execution_count": 5,
   "id": "fc58aab6-b541-458f-bc11-717ca3a8195d",
   "metadata": {},
   "outputs": [],
   "source": [
    "# Tester\n",
    "\n",
    "#model = OpenAIModels()\n",
    "#hl = ['Write a one-sentence bedtime story about a unicorn', \n",
    "#        'Hello my man xx!', \n",
    "#        'Sumeet Bagadia recommended buying these seven stock to buy',\n",
    "#        'OpenAI is inconsistent!',\n",
    "#        ]\n",
    "#hl_series = pandas.Series(hl)\n",
    "#response = model.classify_headlines(hl_series)\n",
    "#pp.pprint(json.loads(response)['output'])"
   ]
  }
 ],
 "metadata": {
  "kernelspec": {
   "display_name": "Python 3 (ipykernel)",
   "language": "python",
   "name": "python3"
  },
  "language_info": {
   "codemirror_mode": {
    "name": "ipython",
    "version": 3
   },
   "file_extension": ".py",
   "mimetype": "text/x-python",
   "name": "python",
   "nbconvert_exporter": "python",
   "pygments_lexer": "ipython3",
   "version": "3.12.3"
  }
 },
 "nbformat": 4,
 "nbformat_minor": 5
}
