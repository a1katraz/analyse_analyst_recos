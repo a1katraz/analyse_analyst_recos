{
 "cells": [
  {
   "cell_type": "code",
   "execution_count": 1,
   "id": "35f8647a-01b4-4830-86c4-a009f9c1c32b",
   "metadata": {},
   "outputs": [
    {
     "data": {
      "text/plain": [
       "True"
      ]
     },
     "execution_count": 1,
     "metadata": {},
     "output_type": "execute_result"
    }
   ],
   "source": [
    "import os\n",
    "import dotenv as env\n",
    "from pydantic import BaseModel\n",
    "from openai import OpenAI\n",
    "import json\n",
    "import pandas\n",
    "import pprint as pp\n",
    "import sys\n",
    "\n",
    "env.load_dotenv('../keys.env')"
   ]
  },
  {
   "cell_type": "code",
   "execution_count": 2,
   "id": "9be4b98f-dda6-4418-b4c7-45f84daaadae",
   "metadata": {},
   "outputs": [],
   "source": [
    "class HeadlineClassification(BaseModel):\n",
    "    title: str                          #Do not change the name of this field as OpenAI is dumb. If you keep it as inputs, then only it returns the original text sent to it.\n",
    "                                        # Will have to carefully write wrappers to ensure that the outcome df to be used in the final output has the right headers. \n",
    "    classification: str\n",
    "    explanation: str"
   ]
  },
  {
   "cell_type": "code",
   "execution_count": 3,
   "id": "f7e19829-59e0-4e24-92a2-99fad261c0e6",
   "metadata": {},
   "outputs": [],
   "source": [
    "class listClassifications(BaseModel):\n",
    "    output: list[HeadlineClassification]"
   ]
  },
  {
   "cell_type": "code",
   "execution_count": 4,
   "id": "51505330-a13d-4252-bdd7-df65f6b651de",
   "metadata": {},
   "outputs": [],
   "source": [
    "class Recommendations(BaseModel):\n",
    "    reco_date: str\n",
    "    analyst: str\n",
    "    house: str\n",
    "    stock_name: str\n",
    "    ticker: str\n",
    "    current_value: float\n",
    "    target_value: float\n",
    "    sl_value: float\n",
    "    timeframe: str"
   ]
  },
  {
   "cell_type": "code",
   "execution_count": 5,
   "id": "6a9695ab-3571-4c2f-be13-6949eb9ba335",
   "metadata": {},
   "outputs": [],
   "source": [
    "class listRecommendations(BaseModel):\n",
    "    output: list[Recommendations]"
   ]
  },
  {
   "cell_type": "code",
   "execution_count": 6,
   "id": "de18e775-1cb4-4a22-a914-a10f0b67e4ab",
   "metadata": {},
   "outputs": [],
   "source": [
    "class OpenAIModels:\n",
    "    #__client: \n",
    "    __model_name = 'gpt-4.1-nano-2025-04-14'\n",
    "    __prompt_file_path = '../prompts/open_ai_prompts.json'\n",
    "\n",
    "    def __init__(self):\n",
    "        #self.__model_name = 'gpt-4.1-nano-2025-04-14'\n",
    "        #self.__prompt_file_path = '../prompts/open_ai_prompts.json'\n",
    "        self.__client = OpenAI(api_key=os.environ.get('OPENAI_API_KEY'))\n",
    "    \n",
    "    def __getPromptFromFile(self, type: str) -> str:\n",
    "        with open(OpenAIModels.__prompt_file_path, 'r') as file:\n",
    "            data = file.read()\n",
    "        parsed_data = json.loads(data)\n",
    "        prompt = parsed_data.get(type)\n",
    "        return prompt\n",
    "    \n",
    "    def classify_headlines(self, input: pandas.Series, silent_mode=True) -> str :\n",
    "        if(silent_mode):\n",
    "            original_stdout = sys.stdout   # save the original stdout\n",
    "            sys.stdout = open(os.devnull, 'w')\n",
    "        prompt = self.__getPromptFromFile('headlines_classifier') \n",
    "        print('Sending titles for classification to OpenAI model...')\n",
    "        try:\n",
    "            response = self.__client.responses.parse(\n",
    "                        model=OpenAIModels.__model_name,\n",
    "                        #service_tier='default',\n",
    "                        temperature=1.0,\n",
    "                        instructions=prompt, \n",
    "                        input=input.to_json(),\n",
    "                        text_format=listClassifications\n",
    "                    )\n",
    "            return response.output_text\n",
    "        except Exception as e:\n",
    "            print(f'Open AI execution threw an exception: {e}')\n",
    "        finally:\n",
    "            if(silent_mode):\n",
    "                sys.stdout.close()\n",
    "                sys.stdout = original_stdout    #restore the original stdout, other wise it will fail other prints.\n",
    "            #Since the textformat here is a class wrapper of lists\n",
    "            # So the return response must be handled to strip the 'output' dictionary to get to the inner lists\n",
    "        return None\n",
    "\n",
    "    def gather_articles_susbtance(self, input: pandas.DataFrame, silent_mode=True) -> str:\n",
    "        if(silent_mode):\n",
    "            original_stdout = sys.stdout   # save the original stdout\n",
    "            sys.stdout = open(os.devnull, 'w')\n",
    "        \n",
    "        ##TODO\n",
    "        prompt = self.__getPromptFromFile('article_substance')\n",
    "        print('Sending article to OpenAI for gathering recommendation table...')\n",
    "        try:\n",
    "            response = self.__client.responses.parse(\n",
    "                        model=OpenAIModels.__model_name,\n",
    "                        #service_tier='default',\n",
    "                        temperature=1.0,\n",
    "                        instructions=prompt, \n",
    "                        input=input.to_json(orient='records'),   #orint in this form as it is a dataframe and not a series.\n",
    "                        text_format=listRecommendations   \n",
    "                    )\n",
    "            return response.output_text\n",
    "        except Exception as e:\n",
    "            print(f'Open AI execution thew an error: {e}')\n",
    "        finally:\n",
    "            if(silent_mode):\n",
    "                sys.stdout.close()\n",
    "                sys.stdout = original_stdout    #restore the original stdout, other wise it will fail other prints.\n",
    "\n",
    "            return None"
   ]
  },
  {
   "cell_type": "code",
   "execution_count": 7,
   "id": "fc58aab6-b541-458f-bc11-717ca3a8195d",
   "metadata": {},
   "outputs": [],
   "source": [
    "# Tester\n",
    "\n",
    "#model = OpenAIModels()\n",
    "#hl = ['Write a one-sentence bedtime story about a unicorn', \n",
    "#        'Hello my man xx!', \n",
    "#        'Sumeet Bagadia recommended buying these seven stock to buy',\n",
    "#        'OpenAI is inconsistent!',\n",
    "#        ]\n",
    "#hl_series = pandas.Series(hl)\n",
    "#response = model.classify_headlines(hl_series)\n",
    "#pp.pprint(json.loads(response)['output'])"
   ]
  },
  {
   "cell_type": "code",
   "execution_count": 8,
   "id": "c72061d4-440f-4f71-9d64-e8bc998d808c",
   "metadata": {},
   "outputs": [],
   "source": [
    "#Tester\n",
    "#import ipynb.fs.full.gather_hl_and_articles as reader\n",
    "\n",
    "#rdr = reader.Livemint_reader()\n",
    "#model = OpenAIModels()\n",
    "\n",
    "#frame = rdr.read_article('https://www.livemint.com/market/stock-market-news/buy-or-sell-sumeet-bagadia-recommends-three-stocks-to-buy-on-monday-21-april-2025-11745032539331.html')\n",
    "#response = model.gather_articles_susbtance(frame, silent_mode=False)\n",
    "#pp.pprint(json.loads(response)['output'])"
   ]
  }
 ],
 "metadata": {
  "kernelspec": {
   "display_name": "Python 3 (ipykernel)",
   "language": "python",
   "name": "python3"
  },
  "language_info": {
   "codemirror_mode": {
    "name": "ipython",
    "version": 3
   },
   "file_extension": ".py",
   "mimetype": "text/x-python",
   "name": "python",
   "nbconvert_exporter": "python",
   "pygments_lexer": "ipython3",
   "version": "3.12.3"
  }
 },
 "nbformat": 4,
 "nbformat_minor": 5
}
